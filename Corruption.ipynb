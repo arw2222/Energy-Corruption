{
 "cells": [
  {
   "cell_type": "code",
   "execution_count": 1,
   "id": "9b5ba006",
   "metadata": {},
   "outputs": [],
   "source": [
    "import pandas as pd"
   ]
  },
  {
   "cell_type": "code",
   "execution_count": 6,
   "id": "895117b2",
   "metadata": {},
   "outputs": [
    {
     "name": "stderr",
     "output_type": "stream",
     "text": [
      "/var/folders/tz/hmxv6t9n05l9_hmzltrsy49r0000gn/T/ipykernel_26294/1543951609.py:1: DtypeWarning: Columns (0) have mixed types. Specify dtype option on import or set low_memory=False.\n",
      "  ETI=pd.read_csv(\"Input/Output_ETI.csv\")\n"
     ]
    }
   ],
   "source": [
    "ETI=pd.read_csv(\"Input/Output_ETI.csv\")\n",
    "GDP=pd.read_csv(\"Input/Output_GDP.csv\")\n",
    "Momentum=pd.read_csv(\"Input/Output_Momentum.csv\")\n",
    "Population=pd.read_csv(\"Input/Output_Population.csv\")\n",
    "SDG7=pd.read_csv(\"Input/SDG Indicator 2023.csv\")\n",
    "CPI=pd.read_csv(\"Input/CPI 2022.csv\")\n"
   ]
  },
  {
   "cell_type": "code",
   "execution_count": 7,
   "id": "f1e966a3",
   "metadata": {},
   "outputs": [
    {
     "name": "stdout",
     "output_type": "stream",
     "text": [
      "      _Country_Colors _Country_Params       Country Country (copy)  \\\n",
      "0                                True       Albania        Albania   \n",
      "1                                True       Albania        Albania   \n",
      "2                                True       Albania        Albania   \n",
      "3                                True       Albania        Albania   \n",
      "4                                True       Albania        Albania   \n",
      "...               ...             ...           ...            ...   \n",
      "18145             NaN           False     Mauritius      Mauritius   \n",
      "18146             NaN           False       Nigeria        Nigeria   \n",
      "18147             NaN           False         Gabon          Gabon   \n",
      "18148             NaN           False  South Africa   South Africa   \n",
      "18149             NaN           False       Namibia        Namibia   \n",
      "\n",
      "      Country (group) Country Code  Country_params_map&summary  \\\n",
      "0             Albania          ALB                        True   \n",
      "1             Albania          ALB                        True   \n",
      "2             Albania          ALB                        True   \n",
      "3             Albania          ALB                        True   \n",
      "4             Albania          ALB                        True   \n",
      "...               ...          ...                         ...   \n",
      "18145       Mauritius          MUS                       False   \n",
      "18146         Nigeria          NGA                       False   \n",
      "18147           Gabon          GAB                       False   \n",
      "18148    South Africa          ZAF                       False   \n",
      "18149         Namibia          NAM                       False   \n",
      "\n",
      "       Global rank ETI  Global rank SP  Global rank TR  ... Saifi_adj_thresh  \\\n",
      "0                 21.0            11.0            39.0  ...            22.00   \n",
      "1                 21.0            11.0            39.0  ...            22.00   \n",
      "2                 21.0            11.0            39.0  ...            22.00   \n",
      "3                 21.0            11.0            39.0  ...            22.00   \n",
      "4                 21.0            11.0            39.0  ...            22.00   \n",
      "...                ...             ...             ...  ...              ...   \n",
      "18145             60.0            39.0            77.0  ...             1.00   \n",
      "18146            108.0            94.0           112.0  ...              NaN   \n",
      "18147             96.0            47.0           114.0  ...            52.00   \n",
      "18148             82.0           104.0            56.0  ...             5.98   \n",
      "18149             58.0            57.0            63.0  ...             1.00   \n",
      "\n",
      "         Shrcln Shrcln_adj  SP values System Performance  Tndloss  \\\n",
      "0      0.558889  55.888897  86.674672          71.626816  11.9515   \n",
      "1      0.558889  55.888897  60.342462          71.626816  11.9515   \n",
      "2      0.558889  55.888897  67.863313          71.626816  11.9515   \n",
      "3      0.558889  55.888897  86.674672          71.626816  11.9515   \n",
      "4      0.558889  55.888897  60.342462          71.626816  11.9515   \n",
      "...         ...        ...        ...                ...      ...   \n",
      "18145  0.069269   6.926910  61.425826          65.449169   4.9479   \n",
      "18146  0.038141   3.814087  60.248705          58.423903  15.0000   \n",
      "18147  0.168149  16.814931  62.061363          64.692342  17.2032   \n",
      "18148  0.049143   4.914264  40.155285          56.601040  10.9850   \n",
      "18149  0.273033  27.303312  69.548287          63.311019   7.4239   \n",
      "\n",
      "       Tndloss_adj_thresh  TR values  Transition Readiness  Transport  \n",
      "0                 11.9515  73.590871             51.833725  52.476087  \n",
      "1                 11.9515  73.590871             51.833725  52.476087  \n",
      "2                 11.9515  73.590871             51.833725  52.476087  \n",
      "3                 11.9515  51.780382             51.833725  52.476087  \n",
      "4                 11.9515  51.780382             51.833725  52.476087  \n",
      "...                   ...        ...                   ...        ...  \n",
      "18145              4.9479  49.179062             39.378886  60.242172  \n",
      "18146             15.0000  49.141576             27.477305  31.730211  \n",
      "18147             15.0000  59.455406             26.757048  32.488952  \n",
      "18148             10.9850  61.901871             45.487010  52.131295  \n",
      "18149              7.4239  64.789900             42.725247  53.936795  \n",
      "\n",
      "[18150 rows x 91 columns]\n"
     ]
    }
   ],
   "source": [
    "print(ETI)"
   ]
  },
  {
   "cell_type": "code",
   "execution_count": null,
   "id": "6237565e",
   "metadata": {},
   "outputs": [],
   "source": []
  },
  {
   "cell_type": "code",
   "execution_count": null,
   "id": "4f2c94ed",
   "metadata": {},
   "outputs": [],
   "source": []
  },
  {
   "cell_type": "markdown",
   "id": "2db19d59",
   "metadata": {},
   "source": [
    ">energy indicators 7.1.1, 7.1.2, 7.2.1 \n",
    "\n",
    ">correlation analysis - corruption perception index & ETI\n",
    "\n",
    ">correlation analysis - proxy indicators on governance/quality of institutions (business integrity, trust, social contract) & ETI \n",
    "\n",
    ">find data on corruption, bribery, public procurement in the broader energy sector and within the energy transition and its sub-sections, control of corruption indicator, corruption barometer, V- Dem Index"
   ]
  }
 ],
 "metadata": {
  "kernelspec": {
   "display_name": "Python 3 (ipykernel)",
   "language": "python",
   "name": "python3"
  },
  "language_info": {
   "codemirror_mode": {
    "name": "ipython",
    "version": 3
   },
   "file_extension": ".py",
   "mimetype": "text/x-python",
   "name": "python",
   "nbconvert_exporter": "python",
   "pygments_lexer": "ipython3",
   "version": "3.10.6"
  }
 },
 "nbformat": 4,
 "nbformat_minor": 5
}
